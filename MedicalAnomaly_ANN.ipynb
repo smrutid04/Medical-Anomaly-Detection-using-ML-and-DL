{
  "cells": [
    {
      "cell_type": "code",
      "execution_count": 1,
      "metadata": {
        "id": "3-sPZi8RGPlS"
      },
      "outputs": [],
      "source": [
        "import pandas as pd\n",
        "import numpy as np\n",
        "from sklearn.model_selection import train_test_split\n",
        "from sklearn.preprocessing import MinMaxScaler, LabelEncoder\n",
        "from imblearn.over_sampling import SMOTE, ADASYN\n",
        "from imblearn.under_sampling import RandomUnderSampler\n",
        "from imblearn.combine import SMOTEENN\n",
        "from collections import Counter\n",
        "import tensorflow as tf\n",
        "from tensorflow.keras.models import Sequential\n",
        "from tensorflow.keras.layers import Dense, Dropout, BatchNormalization\n",
        "from tensorflow.keras.optimizers import Adam\n",
        "from tensorflow.keras.callbacks import ReduceLROnPlateau, EarlyStopping\n",
        "from sklearn.metrics import accuracy_score, classification_report"
      ]
    },
    {
      "cell_type": "code",
      "execution_count": 4,
      "metadata": {
        "id": "6IDgQYSIGUNT"
      },
      "outputs": [],
      "source": [
        "beneficiary_data = pd.read_csv(\"/content/Train_Beneficiarydata-1542865627584.csv\")\n",
        "inpatient_data = pd.read_csv(\"/content/Train_Inpatientdata-1542865627584.csv\")\n",
        "outpatient_data = pd.read_csv(\"/content/Train_Outpatientdata-1542865627584.csv\")\n",
        "main_data = pd.read_csv(\"/content/Train-1542865627584.csv\")"
      ]
    },
    {
      "cell_type": "code",
      "execution_count": null,
      "metadata": {
        "id": "NFwDkW0RGUtC"
      },
      "outputs": [],
      "source": [
        "claims_data = pd.concat([inpatient_data, outpatient_data], ignore_index=True)\n",
        "\n",
        "# Aggregate claim-related data\n",
        "claims_agg = claims_data.groupby(\"Provider\").agg({\n",
        "    \"InscClaimAmtReimbursed\": \"sum\",\n",
        "    \"BeneID\": \"nunique\",  # Unique patients per provider\n",
        "    \"ClaimID\": \"count\"      # Total claims per provider\n",
        "}).reset_index()"
      ]
    },
    {
      "cell_type": "code",
      "execution_count": null,
      "metadata": {
        "id": "u_Zs1DH2GVbz"
      },
      "outputs": [],
      "source": [
        "merged_data = pd.merge(main_data, claims_agg, on=\"Provider\", how=\"left\")"
      ]
    },
    {
      "cell_type": "code",
      "execution_count": null,
      "metadata": {
        "id": "H-3vf-DrGVkk"
      },
      "outputs": [],
      "source": [
        "le = LabelEncoder()\n",
        "merged_data[\"PotentialFraud\"] = le.fit_transform(merged_data[\"PotentialFraud\"])"
      ]
    },
    {
      "cell_type": "code",
      "execution_count": null,
      "metadata": {
        "id": "84uZL_ENGVto"
      },
      "outputs": [],
      "source": [
        "X = merged_data.drop(columns=[\"Provider\", \"PotentialFraud\"])\n",
        "y = merged_data[\"PotentialFraud\"]"
      ]
    },
    {
      "cell_type": "code",
      "execution_count": null,
      "metadata": {
        "id": "tKP-S2rVIVbW"
      },
      "outputs": [],
      "source": [
        "\n",
        "X.fillna(0, inplace=True)"
      ]
    },
    {
      "cell_type": "code",
      "execution_count": null,
      "metadata": {
        "id": "YEL2OeNoIYL6"
      },
      "outputs": [],
      "source": [
        "X_train, X_test, y_train, y_test = train_test_split(X, y, test_size=0.2, random_state=42)"
      ]
    },
    {
      "cell_type": "code",
      "execution_count": null,
      "metadata": {
        "colab": {
          "base_uri": "https://localhost:8080/"
        },
        "id": "_BzzT1HlIYJE",
        "outputId": "70ee470d-e982-4125-d937-9e0bc3793043"
      },
      "outputs": [
        {
          "name": "stdout",
          "output_type": "stream",
          "text": [
            "After resampling: Counter({0: 3925, 1: 2748})\n"
          ]
        }
      ],
      "source": [
        "smote = SMOTE(sampling_strategy=0.7, random_state=42)  # Oversample minority class up to 70%\n",
        "under = RandomUnderSampler(sampling_strategy=0.7, random_state=42)  # Undersample majority class to 70%\n",
        "X_train, y_train = smote.fit_resample(X_train, y_train)\n",
        "X_train, y_train = under.fit_resample(X_train, y_train)\n",
        "\n",
        "counter = Counter(y_train)\n",
        "print(\"After resampling:\", counter)"
      ]
    },
    {
      "cell_type": "code",
      "execution_count": null,
      "metadata": {
        "id": "kj_NGXk_IYFg"
      },
      "outputs": [],
      "source": [
        "scaler = MinMaxScaler()\n",
        "X_train = scaler.fit_transform(X_train)\n",
        "X_test = scaler.transform(X_test)\n"
      ]
    },
    {
      "cell_type": "code",
      "execution_count": null,
      "metadata": {
        "id": "EL6S-ycEIYAu"
      },
      "outputs": [],
      "source": [
        "y_train_cat = tf.keras.utils.to_categorical(y_train)\n",
        "y_test_cat = tf.keras.utils.to_categorical(y_test)"
      ]
    },
    {
      "cell_type": "code",
      "execution_count": 14,
      "metadata": {
        "colab": {
          "base_uri": "https://localhost:8080/"
        },
        "id": "y5pfoo-fIX9T",
        "outputId": "2d83b7a7-a2cc-4f63-9e04-d8111ac418f5"
      },
      "outputs": [
        {
          "name": "stderr",
          "output_type": "stream",
          "text": [
            "/usr/local/lib/python3.11/dist-packages/keras/src/layers/core/dense.py:87: UserWarning: Do not pass an `input_shape`/`input_dim` argument to a layer. When using Sequential models, prefer using an `Input(shape)` object as the first layer in the model instead.\n",
            "  super().__init__(activity_regularizer=activity_regularizer, **kwargs)\n"
          ]
        }
      ],
      "source": [
        "ann_model = Sequential([\n",
        "    Dense(256, activation='relu', input_shape=(X_train.shape[1],)),\n",
        "    BatchNormalization(),\n",
        "    Dropout(0.4),\n",
        "\n",
        "    Dense(128, activation='relu'),\n",
        "    BatchNormalization(),\n",
        "    Dropout(0.3),\n",
        "\n",
        "    Dense(64, activation='relu'),\n",
        "    Dropout(0.2),\n",
        "\n",
        "    Dense(2, activation='softmax')\n",
        "])"
      ]
    },
    {
      "cell_type": "code",
      "execution_count": null,
      "metadata": {
        "id": "3w4fDQ57I81I"
      },
      "outputs": [],
      "source": [
        "optimizer = Adam(learning_rate=0.05)\n",
        "ann_model.compile(optimizer=optimizer, loss='categorical_crossentropy', metrics=['accuracy'])"
      ]
    },
    {
      "cell_type": "code",
      "execution_count": null,
      "metadata": {
        "id": "QBoD-G7TI8xo"
      },
      "outputs": [],
      "source": [
        "lr_scheduler = ReduceLROnPlateau(monitor='val_loss', factor=0.5, patience=5, verbose=1)\n",
        "early_stopping = EarlyStopping(monitor='val_loss', patience=8, restore_best_weights=True)"
      ]
    },
    {
      "cell_type": "code",
      "execution_count": 17,
      "metadata": {
        "colab": {
          "base_uri": "https://localhost:8080/"
        },
        "id": "aKxEn8vkI8ux",
        "outputId": "9a0dcad5-8c06-4c0a-d1f0-e827ac51934f"
      },
      "outputs": [
        {
          "name": "stdout",
          "output_type": "stream",
          "text": [
            "Epoch 1/50\n",
            "\u001b[1m209/209\u001b[0m \u001b[32m━━━━━━━━━━━━━━━━━━━━\u001b[0m\u001b[37m\u001b[0m \u001b[1m9s\u001b[0m 18ms/step - accuracy: 0.7919 - loss: 0.6647 - val_accuracy: 0.0970 - val_loss: 0.8307 - learning_rate: 0.0500\n",
            "Epoch 2/50\n",
            "\u001b[1m209/209\u001b[0m \u001b[32m━━━━━━━━━━━━━━━━━━━━\u001b[0m\u001b[37m\u001b[0m \u001b[1m1s\u001b[0m 3ms/step - accuracy: 0.8268 - loss: 0.4471 - val_accuracy: 0.0970 - val_loss: 1.2124 - learning_rate: 0.0500\n",
            "Epoch 3/50\n",
            "\u001b[1m209/209\u001b[0m \u001b[32m━━━━━━━━━━━━━━━━━━━━\u001b[0m\u001b[37m\u001b[0m \u001b[1m1s\u001b[0m 3ms/step - accuracy: 0.8282 - loss: 0.4497 - val_accuracy: 0.7505 - val_loss: 0.5879 - learning_rate: 0.0500\n",
            "Epoch 4/50\n",
            "\u001b[1m209/209\u001b[0m \u001b[32m━━━━━━━━━━━━━━━━━━━━\u001b[0m\u001b[37m\u001b[0m \u001b[1m1s\u001b[0m 3ms/step - accuracy: 0.8367 - loss: 0.4233 - val_accuracy: 0.4797 - val_loss: 0.6976 - learning_rate: 0.0500\n",
            "Epoch 5/50\n",
            "\u001b[1m209/209\u001b[0m \u001b[32m━━━━━━━━━━━━━━━━━━━━\u001b[0m\u001b[37m\u001b[0m \u001b[1m1s\u001b[0m 4ms/step - accuracy: 0.8117 - loss: 0.4532 - val_accuracy: 0.8189 - val_loss: 0.2370 - learning_rate: 0.0500\n",
            "Epoch 6/50\n",
            "\u001b[1m209/209\u001b[0m \u001b[32m━━━━━━━━━━━━━━━━━━━━\u001b[0m\u001b[37m\u001b[0m \u001b[1m1s\u001b[0m 4ms/step - accuracy: 0.7753 - loss: 0.4440 - val_accuracy: 0.9224 - val_loss: 0.3198 - learning_rate: 0.0500\n",
            "Epoch 7/50\n",
            "\u001b[1m209/209\u001b[0m \u001b[32m━━━━━━━━━━━━━━━━━━━━\u001b[0m\u001b[37m\u001b[0m \u001b[1m1s\u001b[0m 3ms/step - accuracy: 0.7721 - loss: 0.4630 - val_accuracy: 0.9270 - val_loss: 0.2293 - learning_rate: 0.0500\n",
            "Epoch 8/50\n",
            "\u001b[1m209/209\u001b[0m \u001b[32m━━━━━━━━━━━━━━━━━━━━\u001b[0m\u001b[37m\u001b[0m \u001b[1m1s\u001b[0m 3ms/step - accuracy: 0.7547 - loss: 0.4952 - val_accuracy: 0.3909 - val_loss: 4.7352 - learning_rate: 0.0500\n",
            "Epoch 9/50\n",
            "\u001b[1m209/209\u001b[0m \u001b[32m━━━━━━━━━━━━━━━━━━━━\u001b[0m\u001b[37m\u001b[0m \u001b[1m1s\u001b[0m 3ms/step - accuracy: 0.7804 - loss: 0.4303 - val_accuracy: 0.1460 - val_loss: 0.7187 - learning_rate: 0.0500\n",
            "Epoch 10/50\n",
            "\u001b[1m209/209\u001b[0m \u001b[32m━━━━━━━━━━━━━━━━━━━━\u001b[0m\u001b[37m\u001b[0m \u001b[1m1s\u001b[0m 3ms/step - accuracy: 0.7867 - loss: 0.4779 - val_accuracy: 0.9030 - val_loss: 0.2882 - learning_rate: 0.0500\n",
            "Epoch 11/50\n",
            "\u001b[1m209/209\u001b[0m \u001b[32m━━━━━━━━━━━━━━━━━━━━\u001b[0m\u001b[37m\u001b[0m \u001b[1m1s\u001b[0m 3ms/step - accuracy: 0.6837 - loss: 0.5941 - val_accuracy: 0.9030 - val_loss: 0.6368 - learning_rate: 0.0500\n",
            "Epoch 12/50\n",
            "\u001b[1m195/209\u001b[0m \u001b[32m━━━━━━━━━━━━━━━━━━\u001b[0m\u001b[37m━━\u001b[0m \u001b[1m0s\u001b[0m 2ms/step - accuracy: 0.5803 - loss: 0.6842\n",
            "Epoch 12: ReduceLROnPlateau reducing learning rate to 0.02500000037252903.\n",
            "\u001b[1m209/209\u001b[0m \u001b[32m━━━━━━━━━━━━━━━━━━━━\u001b[0m\u001b[37m\u001b[0m \u001b[1m1s\u001b[0m 3ms/step - accuracy: 0.5808 - loss: 0.6840 - val_accuracy: 0.9030 - val_loss: 0.5731 - learning_rate: 0.0500\n",
            "Epoch 13/50\n",
            "\u001b[1m209/209\u001b[0m \u001b[32m━━━━━━━━━━━━━━━━━━━━\u001b[0m\u001b[37m\u001b[0m \u001b[1m1s\u001b[0m 3ms/step - accuracy: 0.5860 - loss: 0.6792 - val_accuracy: 0.9030 - val_loss: 0.5394 - learning_rate: 0.0250\n",
            "Epoch 14/50\n",
            "\u001b[1m209/209\u001b[0m \u001b[32m━━━━━━━━━━━━━━━━━━━━\u001b[0m\u001b[37m\u001b[0m \u001b[1m1s\u001b[0m 3ms/step - accuracy: 0.5858 - loss: 0.6798 - val_accuracy: 0.9030 - val_loss: 0.6043 - learning_rate: 0.0250\n",
            "Epoch 15/50\n",
            "\u001b[1m209/209\u001b[0m \u001b[32m━━━━━━━━━━━━━━━━━━━━\u001b[0m\u001b[37m\u001b[0m \u001b[1m1s\u001b[0m 3ms/step - accuracy: 0.5773 - loss: 0.6813 - val_accuracy: 0.9030 - val_loss: 0.5567 - learning_rate: 0.0250\n"
          ]
        },
        {
          "data": {
            "text/plain": [
              "<keras.src.callbacks.history.History at 0x7c93f2c3f350>"
            ]
          },
          "execution_count": 17,
          "metadata": {},
          "output_type": "execute_result"
        }
      ],
      "source": [
        "ann_model.fit(X_train, y_train_cat, epochs=50, batch_size=32, validation_data=(X_test, y_test_cat), callbacks=[lr_scheduler, early_stopping])\n"
      ]
    },
    {
      "cell_type": "code",
      "execution_count": 18,
      "metadata": {
        "colab": {
          "base_uri": "https://localhost:8080/"
        },
        "id": "lERNg8wlNhBT",
        "outputId": "95088997-8028-4660-a22e-63665e173917"
      },
      "outputs": [
        {
          "name": "stdout",
          "output_type": "stream",
          "text": [
            "\u001b[1m34/34\u001b[0m \u001b[32m━━━━━━━━━━━━━━━━━━━━\u001b[0m\u001b[37m\u001b[0m \u001b[1m1s\u001b[0m 14ms/step\n",
            "\n",
            "ANN Model Evaluation:\n",
            "Accuracy: 0.9269870609981515\n",
            "              precision    recall  f1-score   support\n",
            "\n",
            "           0       0.93      0.99      0.96       977\n",
            "           1       0.84      0.30      0.45       105\n",
            "\n",
            "    accuracy                           0.93      1082\n",
            "   macro avg       0.89      0.65      0.70      1082\n",
            "weighted avg       0.92      0.93      0.91      1082\n",
            "\n"
          ]
        }
      ],
      "source": [
        "y_pred_ann = np.argmax(ann_model.predict(X_test), axis=1)\n",
        "print(\"\\nANN Model Evaluation:\")\n",
        "print(f\"Accuracy: {accuracy_score(y_test, y_pred_ann)}\")\n",
        "print(classification_report(y_test, y_pred_ann))"
      ]
    },
    {
      "cell_type": "code",
      "execution_count": 22,
      "metadata": {
        "colab": {
          "base_uri": "https://localhost:8080/",
          "height": 564
        },
        "id": "aL9IvD-QN2nm",
        "outputId": "6ae193c0-0106-4e08-fa0d-dba4024a4cc0"
      },
      "outputs": [
        {
          "data": {
            "image/png": "[encoded data removed]",
            "text/plain": [
              "<Figure size 800x600 with 2 Axes>"
            ]
          },
          "metadata": {},
          "output_type": "display_data"
        }
      ],
      "source": [
        "cm = confusion_matrix(y_test, y_pred_ann)\n",
        "\n",
        "plt.figure(figsize=(8, 6))\n",
        "sns.heatmap(cm, annot=True, fmt='d', cmap='Blues',\n",
        "            xticklabels=['No Fraud', 'Fraud'],\n",
        "            yticklabels=['No Fraud', 'Fraud'])\n",
        "plt.xlabel('Predicted')\n",
        "plt.ylabel('Actual')\n",
        "plt.title('Confusion Matrix')\n",
        "plt.show()\n"
      ]
    }
  ],
  "metadata": {
    "accelerator": "GPU",
    "colab": {
      "gpuType": "T4",
      "provenance": []
    },
    "kernelspec": {
      "display_name": "Python 3",
      "name": "python3"
    },
    "language_info": {
      "name": "python"
    }
  },
  "nbformat": 4,
  "nbformat_minor": 0
}
